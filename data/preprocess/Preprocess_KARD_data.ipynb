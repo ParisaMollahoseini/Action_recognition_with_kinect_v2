{
 "cells": [
  {
   "cell_type": "markdown",
   "metadata": {},
   "source": [
    "## 1️⃣ Put skeleton data file names to an array named files_in_folder"
   ]
  },
  {
   "cell_type": "code",
   "execution_count": 1,
   "metadata": {
    "collapsed": true
   },
   "outputs": [
    {
     "name": "stdout",
     "output_type": "stream",
     "text": [
      "E:/my_courses/project/kinect dataset\\a12_s01_e01_screen.txt\n",
      "E:/my_courses/project/kinect dataset\\a12_s01_e02_screen.txt\n",
      "E:/my_courses/project/kinect dataset\\a12_s01_e03_screen.txt\n",
      "E:/my_courses/project/kinect dataset\\a12_s02_e01_screen.txt\n",
      "E:/my_courses/project/kinect dataset\\a12_s02_e02_screen.txt\n",
      "E:/my_courses/project/kinect dataset\\a12_s02_e03_screen.txt\n",
      "E:/my_courses/project/kinect dataset\\a12_s03_e01_screen.txt\n",
      "E:/my_courses/project/kinect dataset\\a12_s03_e02_screen.txt\n",
      "E:/my_courses/project/kinect dataset\\a12_s03_e03_screen.txt\n",
      "E:/my_courses/project/kinect dataset\\a12_s04_e01_screen.txt\n",
      "E:/my_courses/project/kinect dataset\\a12_s04_e02_screen.txt\n",
      "E:/my_courses/project/kinect dataset\\a12_s04_e03_screen.txt\n",
      "E:/my_courses/project/kinect dataset\\a12_s05_e01_screen.txt\n",
      "E:/my_courses/project/kinect dataset\\a12_s05_e02_screen.txt\n",
      "E:/my_courses/project/kinect dataset\\a12_s05_e03_screen.txt\n",
      "E:/my_courses/project/kinect dataset\\a12_s06_e01_screen.txt\n",
      "E:/my_courses/project/kinect dataset\\a12_s06_e02_screen.txt\n",
      "E:/my_courses/project/kinect dataset\\a12_s06_e03_screen.txt\n",
      "E:/my_courses/project/kinect dataset\\a12_s07_e01_screen.txt\n",
      "E:/my_courses/project/kinect dataset\\a12_s07_e02_screen.txt\n",
      "E:/my_courses/project/kinect dataset\\a12_s07_e03_screen.txt\n",
      "E:/my_courses/project/kinect dataset\\a12_s08_e01_screen.txt\n",
      "E:/my_courses/project/kinect dataset\\a12_s08_e02_screen.txt\n",
      "E:/my_courses/project/kinect dataset\\a12_s08_e03_screen.txt\n",
      "E:/my_courses/project/kinect dataset\\a12_s09_e01_screen.txt\n",
      "E:/my_courses/project/kinect dataset\\a12_s09_e02_screen.txt\n",
      "E:/my_courses/project/kinect dataset\\a12_s09_e03_screen.txt\n",
      "E:/my_courses/project/kinect dataset\\a12_s10_e01_screen.txt\n",
      "E:/my_courses/project/kinect dataset\\a12_s10_e02_screen.txt\n",
      "E:/my_courses/project/kinect dataset\\a12_s10_e03_screen.txt\n",
      "E:/my_courses/project/kinect dataset\\a13_s01_e01_screen.txt\n",
      "E:/my_courses/project/kinect dataset\\a13_s01_e02_screen.txt\n",
      "E:/my_courses/project/kinect dataset\\a13_s01_e03_screen.txt\n",
      "E:/my_courses/project/kinect dataset\\a13_s02_e01_screen.txt\n",
      "E:/my_courses/project/kinect dataset\\a13_s02_e02_screen.txt\n",
      "E:/my_courses/project/kinect dataset\\a13_s02_e03_screen.txt\n",
      "E:/my_courses/project/kinect dataset\\a13_s03_e01_screen.txt\n",
      "E:/my_courses/project/kinect dataset\\a13_s03_e02_screen.txt\n",
      "E:/my_courses/project/kinect dataset\\a13_s03_e03_screen.txt\n",
      "E:/my_courses/project/kinect dataset\\a13_s04_e01_screen.txt\n",
      "E:/my_courses/project/kinect dataset\\a13_s04_e02_screen.txt\n",
      "E:/my_courses/project/kinect dataset\\a13_s04_e03_screen.txt\n",
      "E:/my_courses/project/kinect dataset\\a13_s05_e01_screen.txt\n",
      "E:/my_courses/project/kinect dataset\\a13_s05_e02_screen.txt\n",
      "E:/my_courses/project/kinect dataset\\a13_s05_e03_screen.txt\n",
      "E:/my_courses/project/kinect dataset\\a13_s06_e01_screen.txt\n",
      "E:/my_courses/project/kinect dataset\\a13_s06_e02_screen.txt\n",
      "E:/my_courses/project/kinect dataset\\a13_s06_e03_screen.txt\n",
      "E:/my_courses/project/kinect dataset\\a13_s07_e01_screen.txt\n",
      "E:/my_courses/project/kinect dataset\\a13_s07_e02_screen.txt\n",
      "E:/my_courses/project/kinect dataset\\a13_s07_e03_screen.txt\n",
      "E:/my_courses/project/kinect dataset\\a13_s08_e01_screen.txt\n",
      "E:/my_courses/project/kinect dataset\\a13_s08_e02_screen.txt\n",
      "E:/my_courses/project/kinect dataset\\a13_s08_e03_screen.txt\n",
      "E:/my_courses/project/kinect dataset\\a13_s09_e01_screen.txt\n",
      "E:/my_courses/project/kinect dataset\\a13_s09_e02_screen.txt\n",
      "E:/my_courses/project/kinect dataset\\a13_s09_e03_screen.txt\n",
      "E:/my_courses/project/kinect dataset\\a13_s10_e01_screen.txt\n",
      "E:/my_courses/project/kinect dataset\\a13_s10_e02_screen.txt\n",
      "E:/my_courses/project/kinect dataset\\a13_s10_e03_screen.txt\n",
      "E:/my_courses/project/kinect dataset\\a14_s01_e01_screen.txt\n",
      "E:/my_courses/project/kinect dataset\\a14_s01_e02_screen.txt\n",
      "E:/my_courses/project/kinect dataset\\a14_s01_e03_screen.txt\n",
      "E:/my_courses/project/kinect dataset\\a14_s02_e01_screen.txt\n",
      "E:/my_courses/project/kinect dataset\\a14_s02_e02_screen.txt\n",
      "E:/my_courses/project/kinect dataset\\a14_s02_e03_screen.txt\n",
      "E:/my_courses/project/kinect dataset\\a14_s03_e01_screen.txt\n",
      "E:/my_courses/project/kinect dataset\\a14_s03_e02_screen.txt\n",
      "E:/my_courses/project/kinect dataset\\a14_s03_e03_screen.txt\n",
      "E:/my_courses/project/kinect dataset\\a14_s04_e01_screen.txt\n",
      "E:/my_courses/project/kinect dataset\\a14_s04_e02_screen.txt\n",
      "E:/my_courses/project/kinect dataset\\a14_s04_e03_screen.txt\n",
      "E:/my_courses/project/kinect dataset\\a14_s05_e01_screen.txt\n",
      "E:/my_courses/project/kinect dataset\\a14_s05_e02_screen.txt\n",
      "E:/my_courses/project/kinect dataset\\a14_s05_e03_screen.txt\n",
      "E:/my_courses/project/kinect dataset\\a14_s06_e01_screen.txt\n",
      "E:/my_courses/project/kinect dataset\\a14_s06_e02_screen.txt\n",
      "E:/my_courses/project/kinect dataset\\a14_s06_e03_screen.txt\n",
      "E:/my_courses/project/kinect dataset\\a14_s07_e01_screen.txt\n",
      "E:/my_courses/project/kinect dataset\\a14_s07_e02_screen.txt\n",
      "E:/my_courses/project/kinect dataset\\a14_s07_e03_screen.txt\n",
      "E:/my_courses/project/kinect dataset\\a14_s08_e01_screen.txt\n",
      "E:/my_courses/project/kinect dataset\\a14_s08_e02_screen.txt\n",
      "E:/my_courses/project/kinect dataset\\a14_s08_e03_screen.txt\n",
      "E:/my_courses/project/kinect dataset\\a14_s09_e01_screen.txt\n",
      "E:/my_courses/project/kinect dataset\\a14_s09_e02_screen.txt\n",
      "E:/my_courses/project/kinect dataset\\a14_s09_e03_screen.txt\n",
      "E:/my_courses/project/kinect dataset\\a14_s10_e01_screen.txt\n",
      "E:/my_courses/project/kinect dataset\\a14_s10_e02_screen.txt\n",
      "E:/my_courses/project/kinect dataset\\a14_s10_e03_screen.txt\n",
      "E:/my_courses/project/kinect dataset\\a17_s01_e01_screen.txt\n",
      "E:/my_courses/project/kinect dataset\\a17_s01_e02_screen.txt\n",
      "E:/my_courses/project/kinect dataset\\a17_s01_e03_screen.txt\n",
      "E:/my_courses/project/kinect dataset\\a17_s02_e01_screen.txt\n",
      "E:/my_courses/project/kinect dataset\\a17_s02_e02_screen.txt\n",
      "E:/my_courses/project/kinect dataset\\a17_s02_e03_screen.txt\n",
      "E:/my_courses/project/kinect dataset\\a17_s03_e01_screen.txt\n",
      "E:/my_courses/project/kinect dataset\\a17_s03_e02_screen.txt\n",
      "E:/my_courses/project/kinect dataset\\a17_s03_e03_screen.txt\n",
      "E:/my_courses/project/kinect dataset\\a17_s04_e01_screen.txt\n",
      "E:/my_courses/project/kinect dataset\\a17_s04_e02_screen.txt\n",
      "E:/my_courses/project/kinect dataset\\a17_s04_e03_screen.txt\n",
      "E:/my_courses/project/kinect dataset\\a17_s05_e01_screen.txt\n",
      "E:/my_courses/project/kinect dataset\\a17_s05_e02_screen.txt\n",
      "E:/my_courses/project/kinect dataset\\a17_s05_e03_screen.txt\n",
      "E:/my_courses/project/kinect dataset\\a17_s06_e01_screen.txt\n",
      "E:/my_courses/project/kinect dataset\\a17_s06_e02_screen.txt\n",
      "E:/my_courses/project/kinect dataset\\a17_s06_e03_screen.txt\n",
      "E:/my_courses/project/kinect dataset\\a17_s07_e01_screen.txt\n",
      "E:/my_courses/project/kinect dataset\\a17_s07_e02_screen.txt\n",
      "E:/my_courses/project/kinect dataset\\a17_s07_e03_screen.txt\n",
      "E:/my_courses/project/kinect dataset\\a17_s08_e01_screen.txt\n",
      "E:/my_courses/project/kinect dataset\\a17_s08_e02_screen.txt\n",
      "E:/my_courses/project/kinect dataset\\a17_s08_e03_screen.txt\n",
      "E:/my_courses/project/kinect dataset\\a17_s09_e01_screen.txt\n",
      "E:/my_courses/project/kinect dataset\\a17_s09_e02_screen.txt\n",
      "E:/my_courses/project/kinect dataset\\a17_s09_e03_screen.txt\n",
      "E:/my_courses/project/kinect dataset\\a17_s10_e01_screen.txt\n",
      "E:/my_courses/project/kinect dataset\\a17_s10_e02_screen.txt\n",
      "E:/my_courses/project/kinect dataset\\a17_s10_e03_screen.txt\n",
      "E:/my_courses/project/kinect dataset\\a18_s01_e01_screen.txt\n",
      "E:/my_courses/project/kinect dataset\\a18_s01_e02_screen.txt\n",
      "E:/my_courses/project/kinect dataset\\a18_s01_e03_screen.txt\n",
      "E:/my_courses/project/kinect dataset\\a18_s02_e01_screen.txt\n",
      "E:/my_courses/project/kinect dataset\\a18_s02_e02_screen.txt\n",
      "E:/my_courses/project/kinect dataset\\a18_s02_e03_screen.txt\n",
      "E:/my_courses/project/kinect dataset\\a18_s03_e01_screen.txt\n",
      "E:/my_courses/project/kinect dataset\\a18_s03_e02_screen.txt\n",
      "E:/my_courses/project/kinect dataset\\a18_s03_e03_screen.txt\n",
      "E:/my_courses/project/kinect dataset\\a18_s04_e01_screen.txt\n",
      "E:/my_courses/project/kinect dataset\\a18_s04_e02_screen.txt\n",
      "E:/my_courses/project/kinect dataset\\a18_s04_e03_screen.txt\n",
      "E:/my_courses/project/kinect dataset\\a18_s05_e01_screen.txt\n",
      "E:/my_courses/project/kinect dataset\\a18_s05_e02_screen.txt\n",
      "E:/my_courses/project/kinect dataset\\a18_s05_e03_screen.txt\n",
      "E:/my_courses/project/kinect dataset\\a18_s06_e01_screen.txt\n",
      "E:/my_courses/project/kinect dataset\\a18_s06_e02_screen.txt\n",
      "E:/my_courses/project/kinect dataset\\a18_s06_e03_screen.txt\n",
      "E:/my_courses/project/kinect dataset\\a18_s07_e01_screen.txt\n",
      "E:/my_courses/project/kinect dataset\\a18_s07_e02_screen.txt\n",
      "E:/my_courses/project/kinect dataset\\a18_s07_e03_screen.txt\n",
      "E:/my_courses/project/kinect dataset\\a18_s08_e01_screen.txt\n",
      "E:/my_courses/project/kinect dataset\\a18_s08_e02_screen.txt\n",
      "E:/my_courses/project/kinect dataset\\a18_s08_e03_screen.txt\n",
      "E:/my_courses/project/kinect dataset\\a18_s09_e01_screen.txt\n",
      "E:/my_courses/project/kinect dataset\\a18_s09_e02_screen.txt\n",
      "E:/my_courses/project/kinect dataset\\a18_s09_e03_screen.txt\n",
      "E:/my_courses/project/kinect dataset\\a18_s10_e01_screen.txt\n",
      "E:/my_courses/project/kinect dataset\\a18_s10_e02_screen.txt\n",
      "E:/my_courses/project/kinect dataset\\a18_s10_e03_screen.txt\n"
     ]
    }
   ],
   "source": [
    "import os\n",
    "files_in_folder = []\n",
    "\n",
    "for file in os.listdir(\"E:/my_courses/project/kinect dataset\"):\n",
    "    if file.endswith(\"_screen.txt\"):\n",
    "        print(os.path.join(\"E:/my_courses/project/kinect dataset\", file))\n",
    "        files_in_folder.append(file)"
   ]
  },
  {
   "cell_type": "code",
   "execution_count": 2,
   "metadata": {},
   "outputs": [
    {
     "data": {
      "text/plain": [
       "150"
      ]
     },
     "execution_count": 2,
     "metadata": {},
     "output_type": "execute_result"
    }
   ],
   "source": [
    "len(files_in_folder)"
   ]
  },
  {
   "cell_type": "markdown",
   "metadata": {},
   "source": [
    "## 2️⃣ Get the number of frames in each file in files_in_folder and put it in frames_file array"
   ]
  },
  {
   "cell_type": "code",
   "execution_count": 3,
   "metadata": {},
   "outputs": [],
   "source": [
    "path = \"E:/my_courses/project/kinect dataset/\"\n",
    "frames_file = []\n",
    "for i in files_in_folder:\n",
    "    with open(path+i) as f:\n",
    "        frames_file.append(len(f.readlines())/15)"
   ]
  },
  {
   "cell_type": "markdown",
   "metadata": {},
   "source": [
    "### ✅ Calculate minimum frame number among files"
   ]
  },
  {
   "cell_type": "code",
   "execution_count": 4,
   "metadata": {},
   "outputs": [
    {
     "data": {
      "text/plain": [
       "42.0"
      ]
     },
     "execution_count": 4,
     "metadata": {},
     "output_type": "execute_result"
    }
   ],
   "source": [
    "min(frames_file)"
   ]
  },
  {
   "cell_type": "markdown",
   "metadata": {},
   "source": [
    "### ✅ See number of frames per second some files have"
   ]
  },
  {
   "cell_type": "code",
   "execution_count": 6,
   "metadata": {},
   "outputs": [
    {
     "data": {
      "text/plain": [
       "0.04132231404958678"
      ]
     },
     "execution_count": 6,
     "metadata": {},
     "output_type": "execute_result"
    }
   ],
   "source": [
    "5/121"
   ]
  },
  {
   "cell_type": "code",
   "execution_count": 16,
   "metadata": {},
   "outputs": [
    {
     "data": {
      "text/plain": [
       "24.390243902439025"
      ]
     },
     "execution_count": 16,
     "metadata": {},
     "output_type": "execute_result"
    }
   ],
   "source": [
    "1/0.041"
   ]
  },
  {
   "cell_type": "code",
   "execution_count": 9,
   "metadata": {},
   "outputs": [
    {
     "data": {
      "text/plain": [
       "0.038834951456310676"
      ]
     },
     "execution_count": 9,
     "metadata": {},
     "output_type": "execute_result"
    }
   ],
   "source": [
    "4/103"
   ]
  },
  {
   "cell_type": "code",
   "execution_count": 15,
   "metadata": {},
   "outputs": [
    {
     "data": {
      "text/plain": [
       "26.315789473684212"
      ]
     },
     "execution_count": 15,
     "metadata": {},
     "output_type": "execute_result"
    }
   ],
   "source": [
    "1/0.038"
   ]
  },
  {
   "cell_type": "code",
   "execution_count": 11,
   "metadata": {},
   "outputs": [
    {
     "data": {
      "text/plain": [
       "0.041666666666666664"
      ]
     },
     "execution_count": 11,
     "metadata": {},
     "output_type": "execute_result"
    }
   ],
   "source": [
    "4/96"
   ]
  },
  {
   "cell_type": "code",
   "execution_count": 17,
   "metadata": {},
   "outputs": [
    {
     "data": {
      "text/plain": [
       "24.390243902439025"
      ]
     },
     "execution_count": 17,
     "metadata": {},
     "output_type": "execute_result"
    }
   ],
   "source": [
    "1/0.041"
   ]
  },
  {
   "cell_type": "code",
   "execution_count": 13,
   "metadata": {},
   "outputs": [
    {
     "data": {
      "text/plain": [
       "0.0392156862745098"
      ]
     },
     "execution_count": 13,
     "metadata": {},
     "output_type": "execute_result"
    }
   ],
   "source": [
    "4/102"
   ]
  },
  {
   "cell_type": "code",
   "execution_count": 14,
   "metadata": {},
   "outputs": [
    {
     "data": {
      "text/plain": [
       "25.641025641025642"
      ]
     },
     "execution_count": 14,
     "metadata": {},
     "output_type": "execute_result"
    }
   ],
   "source": [
    "1/0.039"
   ]
  },
  {
   "cell_type": "code",
   "execution_count": 18,
   "metadata": {},
   "outputs": [
    {
     "data": {
      "text/plain": [
       "0.039603960396039604"
      ]
     },
     "execution_count": 18,
     "metadata": {},
     "output_type": "execute_result"
    }
   ],
   "source": [
    "4/101"
   ]
  },
  {
   "cell_type": "code",
   "execution_count": 19,
   "metadata": {},
   "outputs": [
    {
     "data": {
      "text/plain": [
       "25.641025641025642"
      ]
     },
     "execution_count": 19,
     "metadata": {},
     "output_type": "execute_result"
    }
   ],
   "source": [
    "1/0.039"
   ]
  },
  {
   "cell_type": "code",
   "execution_count": 20,
   "metadata": {},
   "outputs": [
    {
     "data": {
      "text/plain": [
       "0.04032258064516129"
      ]
     },
     "execution_count": 20,
     "metadata": {},
     "output_type": "execute_result"
    }
   ],
   "source": [
    "5/124"
   ]
  },
  {
   "cell_type": "code",
   "execution_count": 21,
   "metadata": {},
   "outputs": [
    {
     "data": {
      "text/plain": [
       "25.0"
      ]
     },
     "execution_count": 21,
     "metadata": {},
     "output_type": "execute_result"
    }
   ],
   "source": [
    "1/0.04"
   ]
  },
  {
   "cell_type": "code",
   "execution_count": 43,
   "metadata": {},
   "outputs": [
    {
     "data": {
      "text/plain": [
       "0.037383177570093455"
      ]
     },
     "execution_count": 43,
     "metadata": {},
     "output_type": "execute_result"
    }
   ],
   "source": [
    "4/107"
   ]
  },
  {
   "cell_type": "code",
   "execution_count": 44,
   "metadata": {},
   "outputs": [
    {
     "data": {
      "text/plain": [
       "27.027027027027028"
      ]
     },
     "execution_count": 44,
     "metadata": {},
     "output_type": "execute_result"
    }
   ],
   "source": [
    "1/0.037"
   ]
  },
  {
   "cell_type": "code",
   "execution_count": 45,
   "metadata": {},
   "outputs": [
    {
     "data": {
      "text/plain": [
       "0.040983606557377046"
      ]
     },
     "execution_count": 45,
     "metadata": {},
     "output_type": "execute_result"
    }
   ],
   "source": [
    "5/122"
   ]
  },
  {
   "cell_type": "code",
   "execution_count": 46,
   "metadata": {},
   "outputs": [
    {
     "data": {
      "text/plain": [
       "25.0"
      ]
     },
     "execution_count": 46,
     "metadata": {},
     "output_type": "execute_result"
    }
   ],
   "source": [
    "1/0.04"
   ]
  },
  {
   "cell_type": "code",
   "execution_count": 48,
   "metadata": {},
   "outputs": [
    {
     "data": {
      "text/plain": [
       "12.5"
      ]
     },
     "execution_count": 48,
     "metadata": {},
     "output_type": "execute_result"
    }
   ],
   "source": [
    "0.5/0.04"
   ]
  },
  {
   "cell_type": "markdown",
   "metadata": {},
   "source": [
    "### ✅ Finally 42 is good for windows size "
   ]
  },
  {
   "cell_type": "markdown",
   "metadata": {},
   "source": [
    "## 3️⃣ Move files to test and train folders"
   ]
  },
  {
   "cell_type": "code",
   "execution_count": 5,
   "metadata": {},
   "outputs": [],
   "source": [
    "import shutil\n",
    "test_counter = 0\n",
    "path = \"E:/my_courses/project/kinect dataset/\"\n",
    "for i in range(len(files_in_folder)):\n",
    "    if i == test_counter:\n",
    "        shutil.copy(path+files_in_folder[i], \"E:/my_courses/project/final_files/dataset/test\")\n",
    "        test_counter += 12\n",
    "    else:\n",
    "        shutil.copy(path+files_in_folder[i], \"E:/my_courses/project/final_files/dataset/train\")\n"
   ]
  },
  {
   "cell_type": "markdown",
   "metadata": {},
   "source": [
    "### ✅ 8 percent test data = 13"
   ]
  },
  {
   "cell_type": "markdown",
   "metadata": {},
   "source": [
    "## 4️⃣ Remove some frames from each file (train or test) to reach 42 frames\n",
    "##       Then move them to new folders. (train_2 or val)"
   ]
  },
  {
   "cell_type": "code",
   "execution_count": 5,
   "metadata": {
    "collapsed": true
   },
   "outputs": [
    {
     "name": "stdout",
     "output_type": "stream",
     "text": [
      "len_1:  103\n",
      "len_frames:  66\n",
      "a12_s01_e02_screen.txt\n",
      "diff:  2.3333333333333286\n",
      "42\n",
      "---------------------end-------------------------\n",
      "len_1:  61\n",
      "a12_s01_e03_screen.txt\n",
      "diff:  1.8260869565217348\n",
      "42\n",
      "---------------------end-------------------------\n",
      "len_1:  96\n",
      "a12_s02_e01_screen.txt\n",
      "diff:  2.80000000000004\n",
      "42\n",
      "---------------------end-------------------------\n",
      "len_1:  84\n",
      "a12_s02_e02_screen.txt\n",
      "diff:  2.0\n",
      "42\n",
      "---------------------end-------------------------\n",
      "len_1:  102\n",
      "len_frames:  65\n",
      "a12_s02_e03_screen.txt\n",
      "diff:  2.2105263157894797\n",
      "42\n",
      "---------------------end-------------------------\n",
      "len_1:  101\n",
      "len_frames:  64\n",
      "a12_s03_e01_screen.txt\n",
      "diff:  2.099999999999987\n",
      "42\n",
      "---------------------end-------------------------\n",
      "len_1:  124\n",
      "len_frames:  87\n",
      "a12_s03_e02_screen.txt\n",
      "diff:  2.1538461538461036\n",
      "42\n",
      "---------------------end-------------------------\n",
      "len_1:  110\n",
      "len_frames:  73\n",
      "a12_s03_e03_screen.txt\n",
      "diff:  3.818181818181806\n",
      "42\n",
      "---------------------end-------------------------\n",
      "len_1:  66\n",
      "a12_s04_e01_screen.txt\n",
      "diff:  2.3333333333333286\n",
      "42\n",
      "---------------------end-------------------------\n",
      "len_1:  70\n",
      "a12_s04_e02_screen.txt\n",
      "diff:  3.0\n",
      "42\n",
      "---------------------end-------------------------\n",
      "len_1:  56\n",
      "a12_s04_e03_screen.txt\n",
      "diff:  1.5\n",
      "42\n",
      "---------------------end-------------------------\n",
      "len_1:  107\n",
      "len_frames:  70\n",
      "a12_s05_e02_screen.txt\n",
      "diff:  3.0\n",
      "42\n",
      "---------------------end-------------------------\n",
      "len_1:  84\n",
      "a12_s05_e03_screen.txt\n",
      "diff:  2.0\n",
      "42\n",
      "---------------------end-------------------------\n",
      "len_1:  129\n",
      "len_frames:  92\n",
      "a12_s06_e01_screen.txt\n",
      "diff:  2.4705882352941586\n",
      "42\n",
      "---------------------end-------------------------\n",
      "len_1:  154\n",
      "len_frames:  117\n",
      "a12_s06_e02_screen.txt\n",
      "diff:  9.333333333333329\n",
      "42\n",
      "---------------------end-------------------------\n",
      "len_1:  113\n",
      "len_frames:  76\n",
      "a12_s06_e03_screen.txt\n",
      "diff:  5.25\n",
      "42\n",
      "---------------------end-------------------------\n",
      "len_1:  105\n",
      "len_frames:  68\n",
      "a12_s07_e01_screen.txt\n",
      "diff:  2.625\n",
      "42\n",
      "---------------------end-------------------------\n",
      "len_1:  106\n",
      "len_frames:  69\n",
      "a12_s07_e02_screen.txt\n",
      "diff:  2.8000000000000043\n",
      "42\n",
      "---------------------end-------------------------\n",
      "len_1:  96\n",
      "a12_s07_e03_screen.txt\n",
      "diff:  2.80000000000004\n",
      "42\n",
      "---------------------end-------------------------\n",
      "len_1:  115\n",
      "len_frames:  78\n",
      "a12_s08_e01_screen.txt\n",
      "diff:  7.0\n",
      "42\n",
      "---------------------end-------------------------\n",
      "len_1:  127\n",
      "len_frames:  90\n",
      "a12_s08_e02_screen.txt\n",
      "diff:  2.333333333333343\n",
      "42\n",
      "---------------------end-------------------------\n",
      "len_1:  135\n",
      "len_frames:  98\n",
      "a12_s08_e03_screen.txt\n",
      "diff:  3.0\n",
      "42\n",
      "---------------------end-------------------------\n",
      "len_1:  160\n",
      "len_frames:  123\n",
      "a12_s09_e02_screen.txt\n",
      "--\n",
      "diff:  1.0\n",
      "42\n",
      "---------------------end-------------------------\n",
      "len_1:  145\n",
      "len_frames:  108\n",
      "a12_s09_e03_screen.txt\n",
      "diff:  4.666666666666657\n",
      "42\n",
      "---------------------end-------------------------\n",
      "len_1:  113\n",
      "len_frames:  76\n",
      "a12_s10_e01_screen.txt\n",
      "diff:  5.25\n",
      "42\n",
      "---------------------end-------------------------\n",
      "len_1:  85\n",
      "a12_s10_e02_screen.txt\n",
      "diff:  2.048780487804933\n",
      "42\n",
      "---------------------end-------------------------\n",
      "len_1:  70\n",
      "a12_s10_e03_screen.txt\n",
      "diff:  3.0\n",
      "42\n",
      "---------------------end-------------------------\n",
      "len_1:  122\n",
      "len_frames:  85\n",
      "a13_s01_e01_screen.txt\n",
      "diff:  2.048780487804933\n",
      "42\n",
      "---------------------end-------------------------\n",
      "len_1:  111\n",
      "len_frames:  74\n",
      "a13_s01_e02_screen.txt\n",
      "diff:  4.199999999999996\n",
      "42\n",
      "---------------------end-------------------------\n",
      "len_1:  77\n",
      "a13_s01_e03_screen.txt\n",
      "diff:  6.0\n",
      "42\n",
      "---------------------end-------------------------\n",
      "len_1:  88\n",
      "a13_s02_e01_screen.txt\n",
      "diff:  2.210526315789437\n",
      "42\n",
      "---------------------end-------------------------\n",
      "len_1:  76\n",
      "a13_s02_e02_screen.txt\n",
      "diff:  5.25\n",
      "42\n",
      "---------------------end-------------------------\n",
      "len_1:  79\n",
      "a13_s02_e03_screen.txt\n",
      "diff:  8.399999999999999\n",
      "42\n",
      "---------------------end-------------------------\n",
      "len_1:  69\n",
      "a13_s03_e02_screen.txt\n",
      "diff:  2.8000000000000043\n",
      "42\n",
      "---------------------end-------------------------\n",
      "len_1:  80\n",
      "a13_s03_e03_screen.txt\n",
      "--\n",
      "diff:  1.0\n",
      "42\n",
      "---------------------end-------------------------\n",
      "len_1:  52\n",
      "a13_s04_e01_screen.txt\n",
      "diff:  1.3125\n",
      "42\n",
      "---------------------end-------------------------\n",
      "len_1:  89\n",
      "a13_s04_e02_screen.txt\n",
      "diff:  2.2702702702702027\n",
      "42\n",
      "---------------------end-------------------------\n",
      "len_1:  80\n",
      "a13_s04_e03_screen.txt\n",
      "--\n",
      "diff:  1.0\n",
      "42\n",
      "---------------------end-------------------------\n",
      "len_1:  76\n",
      "a13_s05_e01_screen.txt\n",
      "diff:  5.25\n",
      "42\n",
      "---------------------end-------------------------\n",
      "len_1:  92\n",
      "a13_s05_e02_screen.txt\n",
      "diff:  2.4705882352941586\n",
      "42\n",
      "---------------------end-------------------------\n",
      "len_1:  119\n",
      "len_frames:  82\n",
      "a13_s05_e03_screen.txt\n",
      "--\n",
      "diff:  1.0\n",
      "42\n",
      "---------------------end-------------------------\n",
      "len_1:  96\n",
      "a13_s06_e01_screen.txt\n",
      "diff:  2.80000000000004\n",
      "42\n",
      "---------------------end-------------------------\n",
      "len_1:  68\n",
      "a13_s06_e02_screen.txt\n",
      "diff:  2.625\n",
      "42\n",
      "---------------------end-------------------------\n",
      "len_1:  51\n",
      "a13_s06_e03_screen.txt\n",
      "diff:  1.2727272727272592\n",
      "42\n",
      "---------------------end-------------------------\n",
      "len_1:  91\n",
      "a13_s07_e02_screen.txt\n",
      "diff:  2.3999999999999773\n",
      "42\n",
      "---------------------end-------------------------\n",
      "len_1:  77\n",
      "a13_s07_e03_screen.txt\n",
      "diff:  6.0\n",
      "42\n",
      "---------------------end-------------------------\n",
      "len_1:  89\n",
      "a13_s08_e01_screen.txt\n",
      "diff:  2.2702702702702027\n",
      "42\n",
      "---------------------end-------------------------\n",
      "len_1:  133\n",
      "len_frames:  96\n",
      "a13_s08_e02_screen.txt\n",
      "diff:  2.80000000000004\n",
      "42\n",
      "---------------------end-------------------------\n",
      "len_1:  138\n",
      "len_frames:  101\n",
      "a13_s08_e03_screen.txt\n",
      "diff:  3.3599999999999994\n",
      "42\n",
      "---------------------end-------------------------\n",
      "len_1:  42\n",
      "a13_s09_e01_screen.txt\n",
      "diff:  1.0\n",
      "42\n",
      "---------------------end-------------------------\n",
      "len_1:  78\n",
      "a13_s09_e02_screen.txt\n",
      "diff:  7.0\n",
      "42\n",
      "---------------------end-------------------------\n",
      "len_1:  70\n",
      "a13_s09_e03_screen.txt\n",
      "diff:  3.0\n",
      "42\n",
      "---------------------end-------------------------\n",
      "len_1:  98\n",
      "a13_s10_e01_screen.txt\n",
      "diff:  3.0\n",
      "42\n",
      "---------------------end-------------------------\n",
      "len_1:  99\n",
      "a13_s10_e02_screen.txt\n",
      "diff:  3.1111111111110716\n",
      "42\n",
      "---------------------end-------------------------\n",
      "len_1:  101\n",
      "len_frames:  64\n",
      "a13_s10_e03_screen.txt\n",
      "diff:  2.099999999999987\n",
      "42\n",
      "---------------------end-------------------------\n",
      "len_1:  150\n",
      "len_frames:  113\n",
      "a14_s01_e02_screen.txt\n",
      "diff:  6.461538461538453\n",
      "42\n",
      "---------------------end-------------------------\n",
      "len_1:  228\n",
      "len_frames:  191\n",
      "a14_s01_e03_screen.txt\n",
      "diff:  8.842105263157919\n",
      "42\n",
      "---------------------end-------------------------\n",
      "len_1:  186\n",
      "len_frames:  149\n",
      "a14_s02_e01_screen.txt\n",
      "diff:  6.631578947368368\n",
      "42\n",
      "---------------------end-------------------------\n",
      "len_1:  204\n",
      "len_frames:  167\n",
      "a14_s02_e02_screen.txt\n",
      "--\n",
      "diff:  1.0\n",
      "42\n",
      "---------------------end-------------------------\n",
      "len_1:  228\n",
      "len_frames:  191\n",
      "a14_s02_e03_screen.txt\n",
      "diff:  8.842105263157919\n",
      "42\n",
      "---------------------end-------------------------\n",
      "len_1:  150\n",
      "len_frames:  113\n",
      "a14_s03_e01_screen.txt\n",
      "diff:  6.461538461538453\n",
      "42\n",
      "---------------------end-------------------------\n",
      "len_1:  256\n",
      "len_frames:  219\n",
      "a14_s03_e02_screen.txt\n",
      "diff:  6.363636363636289\n",
      "42\n",
      "---------------------end-------------------------\n",
      "len_1:  255\n",
      "len_frames:  218\n",
      "a14_s03_e03_screen.txt\n",
      "diff:  6.1764705882351905\n",
      "42\n",
      "---------------------end-------------------------\n",
      "len_1:  175\n",
      "len_frames:  138\n",
      "a14_s04_e01_screen.txt\n",
      "diff:  4.199999999999946\n",
      "42\n",
      "---------------------end-------------------------\n",
      "len_1:  182\n",
      "len_frames:  145\n",
      "a14_s04_e02_screen.txt\n",
      "diff:  5.478260869565204\n",
      "42\n",
      "---------------------end-------------------------\n",
      "len_1:  205\n",
      "len_frames:  168\n",
      "a14_s04_e03_screen.txt\n",
      "diff:  4.0\n",
      "42\n",
      "---------------------end-------------------------\n",
      "len_1:  196\n",
      "len_frames:  159\n",
      "a14_s05_e02_screen.txt\n",
      "--\n",
      "diff:  1.0\n",
      "42\n",
      "---------------------end-------------------------\n",
      "len_1:  208\n",
      "len_frames:  171\n",
      "a14_s05_e03_screen.txt\n",
      "diff:  4.307692307692207\n",
      "42\n",
      "---------------------end-------------------------\n",
      "len_1:  181\n",
      "len_frames:  144\n",
      "a14_s06_e01_screen.txt\n",
      "diff:  5.25\n",
      "42\n",
      "---------------------end-------------------------\n",
      "len_1:  288\n",
      "len_frames:  251\n",
      "a14_s06_e02_screen.txt\n",
      "--\n",
      "diff:  1.0\n",
      "42\n",
      "---------------------end-------------------------\n",
      "len_1:  241\n",
      "len_frames:  204\n",
      "a14_s06_e03_screen.txt\n",
      "--\n",
      "diff:  1.0\n",
      "42\n",
      "---------------------end-------------------------\n",
      "len_1:  158\n",
      "len_frames:  121\n",
      "a14_s07_e01_screen.txt\n",
      "--\n",
      "diff:  1.0\n",
      "42\n",
      "---------------------end-------------------------\n",
      "len_1:  208\n",
      "len_frames:  171\n",
      "a14_s07_e02_screen.txt\n",
      "diff:  4.307692307692207\n",
      "42\n",
      "---------------------end-------------------------\n",
      "len_1:  151\n",
      "len_frames:  114\n",
      "a14_s07_e03_screen.txt\n",
      "diff:  7.0\n",
      "42\n",
      "---------------------end-------------------------\n",
      "len_1:  219\n",
      "len_frames:  182\n",
      "a14_s08_e01_screen.txt\n",
      "diff:  6.0\n",
      "42\n",
      "---------------------end-------------------------\n",
      "len_1:  137\n",
      "len_frames:  100\n",
      "a14_s08_e02_screen.txt\n",
      "diff:  3.2307692307692264\n",
      "42\n",
      "---------------------end-------------------------\n",
      "len_1:  208\n",
      "len_frames:  171\n",
      "a14_s08_e03_screen.txt\n",
      "diff:  4.307692307692207\n",
      "42\n",
      "---------------------end-------------------------\n"
     ]
    },
    {
     "name": "stdout",
     "output_type": "stream",
     "text": [
      "len_1:  310\n",
      "len_frames:  273\n",
      "a14_s09_e02_screen.txt\n",
      "--\n",
      "diff:  1.0\n",
      "42\n",
      "---------------------end-------------------------\n",
      "len_1:  268\n",
      "len_frames:  231\n",
      "a14_s09_e03_screen.txt\n",
      "--\n",
      "diff:  1.0\n",
      "42\n",
      "---------------------end-------------------------\n",
      "len_1:  192\n",
      "len_frames:  155\n",
      "a14_s10_e01_screen.txt\n",
      "diff:  9.692307692307693\n",
      "42\n",
      "---------------------end-------------------------\n",
      "len_1:  250\n",
      "len_frames:  213\n",
      "a14_s10_e02_screen.txt\n",
      "diff:  5.38461538461533\n",
      "42\n",
      "---------------------end-------------------------\n",
      "len_1:  266\n",
      "len_frames:  229\n",
      "a14_s10_e03_screen.txt\n",
      "diff:  9.130434782608802\n",
      "42\n",
      "---------------------end-------------------------\n",
      "len_1:  149\n",
      "len_frames:  112\n",
      "a17_s01_e01_screen.txt\n",
      "diff:  6.0\n",
      "42\n",
      "---------------------end-------------------------\n",
      "len_1:  64\n",
      "a17_s01_e02_screen.txt\n",
      "diff:  2.099999999999987\n",
      "42\n",
      "---------------------end-------------------------\n",
      "len_1:  96\n",
      "a17_s01_e03_screen.txt\n",
      "diff:  2.80000000000004\n",
      "42\n",
      "---------------------end-------------------------\n",
      "len_1:  115\n",
      "len_frames:  78\n",
      "a17_s02_e01_screen.txt\n",
      "diff:  7.0\n",
      "42\n",
      "---------------------end-------------------------\n",
      "len_1:  112\n",
      "len_frames:  75\n",
      "a17_s02_e02_screen.txt\n",
      "diff:  4.666666666666664\n",
      "42\n",
      "---------------------end-------------------------\n",
      "len_1:  98\n",
      "a17_s02_e03_screen.txt\n",
      "diff:  3.0\n",
      "42\n",
      "---------------------end-------------------------\n",
      "len_1:  77\n",
      "a17_s03_e02_screen.txt\n",
      "diff:  6.0\n",
      "42\n",
      "---------------------end-------------------------\n",
      "len_1:  124\n",
      "len_frames:  87\n",
      "a17_s03_e03_screen.txt\n",
      "diff:  2.1538461538461036\n",
      "42\n",
      "---------------------end-------------------------\n",
      "len_1:  87\n",
      "a17_s04_e01_screen.txt\n",
      "diff:  2.1538461538461036\n",
      "42\n",
      "---------------------end-------------------------\n",
      "len_1:  77\n",
      "a17_s04_e02_screen.txt\n",
      "diff:  6.0\n",
      "42\n",
      "---------------------end-------------------------\n",
      "len_1:  86\n",
      "a17_s04_e03_screen.txt\n",
      "diff:  2.1000000000000227\n",
      "42\n",
      "---------------------end-------------------------\n",
      "len_1:  119\n",
      "len_frames:  82\n",
      "a17_s05_e01_screen.txt\n",
      "--\n",
      "diff:  1.0\n",
      "42\n",
      "---------------------end-------------------------\n",
      "len_1:  89\n",
      "a17_s05_e02_screen.txt\n",
      "diff:  2.2702702702702027\n",
      "42\n",
      "---------------------end-------------------------\n",
      "len_1:  86\n",
      "a17_s05_e03_screen.txt\n",
      "diff:  2.1000000000000227\n",
      "42\n",
      "---------------------end-------------------------\n",
      "len_1:  140\n",
      "len_frames:  103\n",
      "a17_s06_e01_screen.txt\n",
      "diff:  3.6521739130434696\n",
      "42\n",
      "---------------------end-------------------------\n",
      "len_1:  145\n",
      "len_frames:  108\n",
      "a17_s06_e02_screen.txt\n",
      "diff:  4.666666666666657\n",
      "42\n",
      "---------------------end-------------------------\n",
      "len_1:  131\n",
      "len_frames:  94\n",
      "a17_s06_e03_screen.txt\n",
      "diff:  2.625\n",
      "42\n",
      "---------------------end-------------------------\n",
      "len_1:  135\n",
      "len_frames:  98\n",
      "a17_s07_e02_screen.txt\n",
      "diff:  3.0\n",
      "42\n",
      "---------------------end-------------------------\n",
      "len_1:  63\n",
      "a17_s07_e03_screen.txt\n",
      "diff:  2.0\n",
      "42\n",
      "---------------------end-------------------------\n",
      "len_1:  158\n",
      "len_frames:  121\n",
      "a17_s08_e01_screen.txt\n",
      "--\n",
      "diff:  1.0\n",
      "42\n",
      "---------------------end-------------------------\n",
      "len_1:  150\n",
      "len_frames:  113\n",
      "a17_s08_e02_screen.txt\n",
      "diff:  6.461538461538453\n",
      "42\n",
      "---------------------end-------------------------\n",
      "len_1:  126\n",
      "len_frames:  89\n",
      "a17_s08_e03_screen.txt\n",
      "diff:  2.2702702702702027\n",
      "42\n",
      "---------------------end-------------------------\n",
      "len_1:  96\n",
      "a17_s09_e01_screen.txt\n",
      "diff:  2.80000000000004\n",
      "42\n",
      "---------------------end-------------------------\n",
      "len_1:  148\n",
      "len_frames:  111\n",
      "a17_s09_e02_screen.txt\n",
      "diff:  5.6000000000000085\n",
      "42\n",
      "---------------------end-------------------------\n",
      "len_1:  129\n",
      "len_frames:  92\n",
      "a17_s09_e03_screen.txt\n",
      "diff:  2.4705882352941586\n",
      "42\n",
      "---------------------end-------------------------\n",
      "len_1:  72\n",
      "a17_s10_e01_screen.txt\n",
      "diff:  3.5\n",
      "42\n",
      "---------------------end-------------------------\n",
      "len_1:  122\n",
      "len_frames:  85\n",
      "a17_s10_e02_screen.txt\n",
      "diff:  2.048780487804933\n",
      "42\n",
      "---------------------end-------------------------\n",
      "len_1:  154\n",
      "len_frames:  117\n",
      "a17_s10_e03_screen.txt\n",
      "diff:  9.333333333333329\n",
      "42\n",
      "---------------------end-------------------------\n",
      "len_1:  99\n",
      "a18_s01_e02_screen.txt\n",
      "diff:  3.1111111111110716\n",
      "42\n",
      "---------------------end-------------------------\n",
      "len_1:  91\n",
      "a18_s01_e03_screen.txt\n",
      "diff:  2.3999999999999773\n",
      "42\n",
      "---------------------end-------------------------\n",
      "len_1:  91\n",
      "a18_s02_e01_screen.txt\n",
      "diff:  2.3999999999999773\n",
      "42\n",
      "---------------------end-------------------------\n",
      "len_1:  89\n",
      "a18_s02_e02_screen.txt\n",
      "diff:  2.2702702702702027\n",
      "42\n",
      "---------------------end-------------------------\n",
      "len_1:  68\n",
      "a18_s02_e03_screen.txt\n",
      "diff:  2.625\n",
      "42\n",
      "---------------------end-------------------------\n",
      "len_1:  98\n",
      "a18_s03_e01_screen.txt\n",
      "diff:  3.0\n",
      "42\n",
      "---------------------end-------------------------\n",
      "len_1:  122\n",
      "len_frames:  85\n",
      "a18_s03_e02_screen.txt\n",
      "diff:  2.048780487804933\n",
      "42\n",
      "---------------------end-------------------------\n",
      "len_1:  91\n",
      "a18_s03_e03_screen.txt\n",
      "diff:  2.3999999999999773\n",
      "42\n",
      "---------------------end-------------------------\n",
      "len_1:  97\n",
      "a18_s04_e01_screen.txt\n",
      "diff:  2.8965517241379217\n",
      "42\n",
      "---------------------end-------------------------\n",
      "len_1:  88\n",
      "a18_s04_e02_screen.txt\n",
      "diff:  2.210526315789437\n",
      "42\n",
      "---------------------end-------------------------\n",
      "len_1:  94\n",
      "a18_s04_e03_screen.txt\n",
      "diff:  2.625\n",
      "42\n",
      "---------------------end-------------------------\n",
      "len_1:  53\n",
      "a18_s05_e02_screen.txt\n",
      "diff:  1.3548387096774306\n",
      "42\n",
      "---------------------end-------------------------\n",
      "len_1:  57\n",
      "a18_s05_e03_screen.txt\n",
      "diff:  1.5555555555555358\n",
      "42\n",
      "---------------------end-------------------------\n",
      "len_1:  120\n",
      "len_frames:  83\n",
      "a18_s06_e01_screen.txt\n",
      "--\n",
      "diff:  1.0\n",
      "42\n",
      "---------------------end-------------------------\n",
      "len_1:  120\n",
      "len_frames:  83\n",
      "a18_s06_e02_screen.txt\n",
      "--\n",
      "diff:  1.0\n",
      "42\n",
      "---------------------end-------------------------\n",
      "len_1:  103\n",
      "len_frames:  66\n",
      "a18_s06_e03_screen.txt\n",
      "diff:  2.3333333333333286\n",
      "42\n",
      "---------------------end-------------------------\n",
      "len_1:  78\n",
      "a18_s07_e01_screen.txt\n",
      "diff:  7.0\n",
      "42\n",
      "---------------------end-------------------------\n",
      "len_1:  108\n",
      "len_frames:  71\n",
      "a18_s07_e02_screen.txt\n",
      "diff:  3.2307692307692264\n",
      "42\n",
      "---------------------end-------------------------\n",
      "len_1:  112\n",
      "len_frames:  75\n",
      "a18_s07_e03_screen.txt\n",
      "diff:  4.666666666666664\n",
      "42\n",
      "---------------------end-------------------------\n",
      "len_1:  87\n",
      "a18_s08_e01_screen.txt\n",
      "diff:  2.1538461538461036\n",
      "42\n",
      "---------------------end-------------------------\n",
      "len_1:  70\n",
      "a18_s08_e02_screen.txt\n",
      "diff:  3.0\n",
      "42\n",
      "---------------------end-------------------------\n",
      "len_1:  119\n",
      "len_frames:  82\n",
      "a18_s08_e03_screen.txt\n",
      "--\n",
      "diff:  1.0\n",
      "42\n",
      "---------------------end-------------------------\n",
      "len_1:  80\n",
      "a18_s09_e02_screen.txt\n",
      "--\n",
      "diff:  1.0\n",
      "42\n",
      "---------------------end-------------------------\n",
      "len_1:  92\n",
      "a18_s09_e03_screen.txt\n",
      "diff:  2.4705882352941586\n",
      "42\n",
      "---------------------end-------------------------\n",
      "len_1:  99\n",
      "a18_s10_e01_screen.txt\n",
      "diff:  3.1111111111110716\n",
      "42\n",
      "---------------------end-------------------------\n",
      "len_1:  102\n",
      "len_frames:  65\n",
      "a18_s10_e02_screen.txt\n",
      "diff:  2.2105263157894797\n",
      "42\n",
      "---------------------end-------------------------\n",
      "len_1:  57\n",
      "a18_s10_e03_screen.txt\n",
      "diff:  1.5555555555555358\n",
      "42\n",
      "---------------------end-------------------------\n"
     ]
    }
   ],
   "source": [
    "import os\n",
    "import numpy as np\n",
    "path = \"E:/my_courses/project/final_files/dataset/train/\" #train  or test\n",
    "path_save = \"E:/my_courses/project/final_files/dataset/train_2/\" #train_2  or val \n",
    "\n",
    "files_in_folder = []\n",
    "for file in os.listdir(path):\n",
    "    files_in_folder.append(file)\n",
    "    \n",
    "frames_file = []\n",
    "\n",
    "for j in files_in_folder:\n",
    "    with open(path+j) as f:\n",
    "        \n",
    "        for line in f.readlines():\n",
    "            frames_file.append([int(float(x)) for x in (line.split())])  \n",
    "            \n",
    "        len_frames = int(len(frames_file)/15)\n",
    "        print('len_1: ',len_frames)\n",
    "        if len_frames >= 100: #remove first 25 and last 12 frames\n",
    "            len_frames -= 37\n",
    "            frames_file = frames_file[25*15:-12*15]\n",
    "            print('len_frames: ',len_frames)\n",
    "            \n",
    "        num = int(len_frames/42)*42 \n",
    "        part_forward = (num/(42-(len_frames - num)))\n",
    "        rest = (len_frames - num)\n",
    "        \n",
    "        final_file = []\n",
    "        \n",
    "\n",
    "        counter = 15 \n",
    "        print(j)\n",
    "        i = 0 \n",
    "        o = 0\n",
    "        condition = False\n",
    "        \n",
    "        while True:\n",
    "            round_i = round(i)\n",
    "            \n",
    "            final_file.append(frames_file[round_i*counter:(round_i+1)*counter])\n",
    "            i += part_forward\n",
    "                 \n",
    "            o += 1\n",
    "            if condition == True:\n",
    "                break\n",
    "                \n",
    "            if condition == False and o == (42-(len_frames - num)):\n",
    "                if  ((num) - (i-part_forward))<10:\n",
    "                    break\n",
    "                else:\n",
    "                    condition = True\n",
    "\n",
    "                \n",
    "        if condition:  \n",
    "            print('--')\n",
    "            num += 1\n",
    "        \n",
    "        for s in range(num,len_frames):\n",
    "            final_file.append(frames_file[s*counter:(s+1)*counter])    \n",
    "        \n",
    "        print('diff: ',(num) - (i-part_forward))\n",
    "        print(o + len_frames-num)\n",
    "        \n",
    "        #save to file\n",
    "        train_file = open(path_save+j, \"w\")\n",
    "        for row in final_file:\n",
    "            np.savetxt(train_file, row)\n",
    "        train_file.close()\n",
    "        frames_file = []\n",
    "        print('---------------------end-------------------------')\n",
    "        #save to file\n",
    "        \n",
    "        \n"
   ]
  },
  {
   "cell_type": "markdown",
   "metadata": {},
   "source": [
    "### ✅ For whatching selected frames of specified file"
   ]
  },
  {
   "cell_type": "code",
   "execution_count": 20,
   "metadata": {},
   "outputs": [
    {
     "name": "stdout",
     "output_type": "stream",
     "text": [
      "yes\n"
     ]
    }
   ],
   "source": [
    "path_save = \"E:/my_courses/project/final_files/dataset/train_2/\" \n",
    "import numpy as np \n",
    "import cv2\n",
    "img = np.zeros((640,480))\n",
    "with open(path_save+'a13_s01_e03_screen.txt') as f:\n",
    "    \n",
    "    c = 0\n",
    "    k = 0\n",
    "    print('yes')\n",
    "    for line in f.readlines():\n",
    "        \n",
    "        seq_lines = ([int(float(x)) for x in (line.split())])\n",
    "        img = cv2.circle(img,(seq_lines[0],seq_lines[1]),10,255,-1) \n",
    "        c += 1\n",
    "        if c % 15 == 0:\n",
    "            cv2.imwrite(path_save+'{}.jpg'.format(c),img)\n",
    "            img = np.zeros((640,480))"
   ]
  },
  {
   "cell_type": "markdown",
   "metadata": {},
   "source": [
    "## 5️⃣ Convert skeleton data to image by keeping the label as name of image"
   ]
  },
  {
   "cell_type": "markdown",
   "metadata": {},
   "source": [
    "### Normalization:\n",
    "255*(x_i-min⁡(X))/(max⁡(X)-min⁡(X) )"
   ]
  },
  {
   "cell_type": "code",
   "execution_count": 54,
   "metadata": {},
   "outputs": [],
   "source": [
    "# Head = 3  \n",
    "# Neck = 2  \n",
    "# Right_Shoulder = 8\n",
    "# Right_Elbow = 9\n",
    "# Right_Hand = 11\n",
    "# Left_Shoulder = 4\n",
    "# Left_Elbow = 5\n",
    "# Left_Hand = 7\n",
    "# Torso = 1\n",
    "# Right_Hip = 16\n",
    "# Right_Knee = 17\n",
    "# Right_Foot = 19 \n",
    "# Left_Hip = 12\n",
    "# Left_Knee = 13\n",
    "# Left_Foot = 15"
   ]
  },
  {
   "cell_type": "code",
   "execution_count": 26,
   "metadata": {},
   "outputs": [],
   "source": [
    "import os\n",
    "import numpy as np\n",
    "import cv2\n",
    "import matplotlib.pyplot as plt\n",
    "\n",
    "train_2_path = \"E:/my_courses/project/final_files/dataset/val/\"#val,train_2,test\n",
    "save_img_path = \"E:/my_courses/project/final_files/dataset/val_dist_scale/\"#train_dist_scale,val_dist_scale,test_dist_scale\n",
    "\n",
    "\n",
    "for file in os.listdir(train_2_path):\n",
    "    with open(train_2_path+file) as f:\n",
    "        seq_lines = []\n",
    "\n",
    "        label = file.split('.')[0][:-7]\n",
    "        \n",
    "        for line in f.readlines():\n",
    "            seq_lines.append(([int(float(x)) for x in (line.split())]))\n",
    "        \n",
    "        seq_lines = np.array(seq_lines)\n",
    "        X = seq_lines[:,0]\n",
    "        Y = seq_lines[:,1]\n",
    "        Z = seq_lines[:,2]\n",
    "        \n",
    "        X = X.reshape(X.reshape(15,-1).shape[1],15).transpose()\n",
    "        X = X[8] - X # DISTANCE between torso and others\n",
    "        X = np.delete(X, 1, 0) #delete torso \n",
    "        \n",
    "        Z = Z.reshape(Z.reshape(15,-1).shape[1],15).transpose()\n",
    "        div = np.delete(Z, 1, 0)\n",
    "        \n",
    "        X = X * (div/4500) # scale every points to 4.5 meter distance of kinect camera\n",
    "        r = (255*(X-(X.min()))/((X.max())-(X.min()))).astype(int) # Normalization and put into to 0-255 range\n",
    "        \n",
    "        Y = Y.reshape(Y.reshape(15,-1).shape[1],15).transpose()\n",
    "        Y = Y[8] - Y\n",
    "        Y = np.delete(Y, 1, 0) #delete torso\n",
    "        Y = Y * (div/4500)\n",
    "        g = (255*(Y-(Y.min()))/((Y.max())-(Y.min()))).astype(int)\n",
    "        \n",
    "        Z = Z[8] - Z  \n",
    "        Z = np.delete(Z, 1, 0) #delete torso\n",
    "        b = (255*(Z-(Z.min()))/((Z.max())-(Z.min()))).astype(int)\n",
    "        \n",
    "        image = cv2.merge((r,g,b))\n",
    "        cv2.imwrite(save_img_path+label+\".jpg\",image)        \n",
    "         \n",
    "\n",
    "    "
   ]
  }
 ],
 "metadata": {
  "kernelspec": {
   "display_name": "Python 3",
   "language": "python",
   "name": "python3"
  },
  "language_info": {
   "codemirror_mode": {
    "name": "ipython",
    "version": 3
   },
   "file_extension": ".py",
   "mimetype": "text/x-python",
   "name": "python",
   "nbconvert_exporter": "python",
   "pygments_lexer": "ipython3",
   "version": "3.6.10"
  }
 },
 "nbformat": 4,
 "nbformat_minor": 4
}
